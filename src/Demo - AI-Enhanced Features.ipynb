{
 "cells": [
  {
   "cell_type": "markdown",
   "metadata": {
    "application/vnd.databricks.v1+cell": {
     "cellMetadata": {},
     "inputWidgets": {},
     "nuid": "ef9a1f95-9dbf-42ea-aa5c-ec87b51f81e6",
     "showTitle": false,
     "tableResultSettingsMap": {},
     "title": ""
    }
   },
   "source": [
    "## Demo - AI-Enhanced Features\n",
    "\n",
    "Databricks AI/BI Dashboards help you quickly transform data into shareable insights. \n",
    "\n",
    "In this notebook, we’ll learn about the capabilities of AI/BI dashboards to help you develop dashboards faster using AI.\n",
    "\n",
    "You will use the following resources:\n",
    "- Tables:\n",
    "  - Catalog: hack_hours_dbws\n",
    "  - Schema: v01\n",
    "  - Tables:\n",
    "    - customers\n",
    "    - orders\n",
    "    - products\n",
    "    - opportunities\n",
    "\n",
    "These tables contain simulated business-to-business order and opportunity data for an imaginary company's Canadian sales operation. The **orders** table contains information from 2021 through the middle of November 2024. This table identifies the relevant customer with a unique key that points into the **customers** table, and it identifies the relevant product with a unique key that points into the **products** table. The **opportunities** table provides additional details regarding sales opportunities and sales representatives. You'll use the data in these tables to prepare your dashboard."
   ]
  },
  {
   "cell_type": "markdown",
   "metadata": {
    "application/vnd.databricks.v1+cell": {
     "cellMetadata": {},
     "inputWidgets": {},
     "nuid": "4b28f180-1c48-4ec2-b365-273de0bb022f",
     "showTitle": false,
     "tableResultSettingsMap": {},
     "title": ""
    }
   },
   "source": [
    "### A: Define a Dataset with AI Help\n",
    "\n",
    "In this exercise we'll define a new dashboard and let Databricks Assistant help us compose the SQL query that will define the dataset.\n",
    "\n",
    "**\uD83D\uDCCC NOTE:** Throughout these instructions, replace YOURSCHEMA with the name of your schema, in this repository we are using `v01`. Additionally, many of the following instructions take place in a non-notebook area of the platform. It is recommended to open either the notebooks in a separate tab or window to reference the instructions alongside the area where they are performed.\n",
    "\n",
    "1. Select **Dashboards** from the sidebar navigation. (It is recommended to right-click and select Open Link in New Window or Tab)\n",
    "1. Click the **Create dashboard** button at top right.\n",
    "1. At the top left of the dashboard definition panel, you'll see the placeholder dashboard name, which will be something like `New Dashboard 202X-0X-XX XX:XX:XX`. Click on it and change its name to **Orders and Opportunities 2023**.\n",
    "1. In the resulting dashboard-creation screen, click the **Data** tab. \n",
    "1. You will find three choices: **Create from SQL**, **Add data source**, and **Upload file**. Choose the other option, **Create from SQL**.\n",
    "1. Click on the Databricks Assistant icon on the left side of the dashboard-definition panel (a small four-pointed star). The Databricks Assistant chat window opens up at right. \n",
    "\n",
    "1. Enter this prompt: \n",
    "<br/>\n",
    "\n",
    "    ```\n",
    "    Give me a query with all the fields in the\n",
    "    hack_hours_dbws.v01.orders table, joined with the hack_hours_dbws.v01.customers\n",
    "    ```\n",
    "\n",
    "  In the chat window at right, Databricks Assistant proposes a query.\n",
    "\n",
    "8. Let's refine this query. In the chat text-entry field below that suggested query, enter this prompt:\n",
    "<br/>\n",
    "\n",
    "    ```\n",
    "    Leave out the productID field\n",
    "    ```\n",
    "\n",
    "1. One more refinement. Enter this prompt:\n",
    "<br/>\n",
    "\n",
    "    ```\n",
    "    I only want to see orders in calendar year 2023\n",
    "    ```\n",
    "\n",
    "1. When you are happy with the query, click the small \"Copy\" icon in Databricks Assistant's response window and paste the SQL query into the dataset definition dialogue's main screen. Click **Run** to confirm that the query works. Feel free to adjust it if necessary, either manually or by clicking Databricks Assistant's help button to diagnose the problem and suggest a repaired query.\n",
    "1. Click on the kebab menu to the right of the working name of this dataset (\"Untitled dataset\") and rename the dataset to **orders2023**.\n"
   ]
  },
  {
   "cell_type": "markdown",
   "metadata": {
    "application/vnd.databricks.v1+cell": {
     "cellMetadata": {},
     "inputWidgets": {},
     "nuid": "14ca3acd-0a3f-4f8c-93d4-06ac4f846032",
     "showTitle": false,
     "tableResultSettingsMap": {},
     "title": ""
    }
   },
   "source": [
    "### B: Define a Visualization with AI Help\n",
    "\n",
    "In this exercise we'll let Databricks Assistant help us build a visualization based on our dataset.\n",
    "\n",
    "1. Click on the **Untitled page** canvas tab at top left to switch to the canvas view.\n",
    "1. At the bottom of the screen you have a palette for adding various widgets. Click the icon in the palette for adding a visualization and drag the resulting widget to the top of your canvas.\n",
    "\n",
    "1. Click into the just-placed widget. Notice that Databricks Assistant offers a box into which you can type a text prompt. Enter this prompt:\n",
    "<br/>\n",
    "\n",
    "      ```\n",
    "      bar chart of Total Sales by order month\n",
    "      ```\n",
    "\n",
    "\n",
    "4. That would be more useful if it were split out by sales rep. Let's refine the visualization with a new prompt to that effect:\n",
    "<br/>\n",
    "\n",
    "      ```\n",
    "      split out by Sales Rep\n",
    "      ```\n",
    "      \n",
    "5. If the result looks good, click **Accept**. Otherwise, you can click **Reject** and try again.\n",
    "1. After you have clicked **Accept**, click once inside the body of the new visualization to make sure it has mouse focus. Notice that the configuration panel at right displays details of the visualization. You can modify it further using this panel."
   ]
  },
  {
   "cell_type": "markdown",
   "metadata": {
    "application/vnd.databricks.v1+cell": {
     "cellMetadata": {},
     "inputWidgets": {},
     "nuid": "837b34e2-caf8-4752-94ab-3461ec871752",
     "showTitle": false,
     "tableResultSettingsMap": {},
     "title": ""
    }
   },
   "source": [
    "\n",
    "This notebook was created using the AI/BI for Analysts official training of Databricks as a reference."
   ]
  },
  {
   "cell_type": "code",
   "execution_count": 0,
   "metadata": {
    "application/vnd.databricks.v1+cell": {
     "cellMetadata": {},
     "inputWidgets": {},
     "nuid": "ffe7ab84-9d08-4926-a59e-4e24dcac064a",
     "showTitle": false,
     "tableResultSettingsMap": {},
     "title": ""
    }
   },
   "outputs": [],
   "source": []
  }
 ],
 "metadata": {
  "application/vnd.databricks.v1+notebook": {
   "computePreferences": null,
   "dashboards": [],
   "environmentMetadata": {
    "base_environment": "",
    "environment_version": "3"
   },
   "inputWidgetPreferences": null,
   "language": "python",
   "notebookMetadata": {
    "pythonIndentUnit": 4
   },
   "notebookName": "Demo - AI-Enhanced Features",
   "widgets": {}
  },
  "language_info": {
   "name": "python"
  }
 },
 "nbformat": 4,
 "nbformat_minor": 0
}