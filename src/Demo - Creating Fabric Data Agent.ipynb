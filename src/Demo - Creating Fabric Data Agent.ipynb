{
 "cells": [
  {
   "cell_type": "markdown",
   "id": "ae879dde",
   "metadata": {},
   "source": [
    "## Demo - Creating Fabric Data Agent\n",
    "\n",
    "Fabric Data Agent empowers your end users to interact with your organization's data using natural language queries.\n",
    "\n",
    "In this notebook, we’ll learn how to create, configure, and publish a Fabric Data Agent.\n",
    "\n",
    "\n",
    "You will use the following resources:\n",
    "- Tables:\n",
    "  - Lakehouse: lh_canada_sales_v01\n",
    "  - Schema: dbo\n",
    "  - Tables:\n",
    "    - customers\n",
    "    - orders\n",
    "    - products\n",
    "    - opportunities\n",
    "\n",
    "These tables contain simulated business-to-business order and opportunity data for an imaginary company's Canadian sales operation. The **orders** table contains information from 2021 through the middle of November 2024. This table identifies the relevant customer with a unique key that points into the **customers** table, and it identifies the relevant product with a unique key that points into the **products** table. The **opportunities** table provides additional details regarding sales opportunities and sales representatives. You'll use the data in these tables to prepare your Genie space."
   ]
  },
  {
   "cell_type": "markdown",
   "id": "a806d54e",
   "metadata": {},
   "source": [
    "### A: Create a Fabric Data Agent\n",
    "\n",
    "In this task, you’ll get a hands-on view of the steps and settings involved in creating a Fabric Data Agent. You’ll also learn how to connect relevant tables and configure your agent for business questions.\n",
    "\n",
    "**📌 NOTE:** Many of the following instructions take place in a non-notebook area of the platform. It is recommended to open either the notebooks in a separate tab or window to reference the instructions alongside the area where they are performed.\n",
    "\n",
    "1. In Fabric, open your **workspace** and select **+ New** → search for **Data agent (preview)** → **Create**.\n",
    "\n",
    "2. Enter a name for your agent in the provided textbox.\n",
    "\n",
    "3. In the agent canvas, select **+ Data source** and choose one or more of:  \n",
    "    - **Lakehouse** (choose the `lh_canada_sales_v01` lakehouse you created in the setup)  \n",
    "\n",
    "4. Expand the Lakehouse and the **dbo** schema, then **select the tables/views** the agent can use \n",
    "    Select the following tables from your Lakehouse:\n",
    "     - customers\n",
    "     - orders\n",
    "     - opportunities\n",
    "     - products\n",
    "\n",
    "\n",
    "Now, you can further configure your agent by providing instructions, mapping business terms, and adding sample questions. The agent will be available for you to test and refine before sharing with others.\n"
   ]
  },
  {
   "cell_type": "markdown",
   "id": "8553d683",
   "metadata": {},
   "source": [
    "### B: Interact with the Fabric Data Agent\n",
    "\n",
    "1. Switch from **Context** to **Settings** to configure your agent.  \n",
    "1. In the **AI Instructions** section, provide guidance to help the agent answer business questions accurately. For example, specify relevant tables, business terms, or preferred response formats. \n",
    "2. Try these example queries in both the Genie and the Data Agent chat window:  \n",
    "    - What are the top products sold in 2024?  \n",
    "    - Which provinces had the highest sales growth?  \n",
    "    - Break down 2024 sales by province \n",
    "    - Show me the distribution of opportunities by sales phase  \n",
    "Compare the results from each interface. Note any differences in the answers, formatting, or how the queries are interpreted. Consider aspects such as response accuracy, level of detail, and ease of use.\n",
    "\n",
    "\n",
    "Your Fabric Data Agent is now configured for interactive data exploration. The chat window will display your sample questions and is ready for end users once published. Currently, only you have access to this Data Agent.\n"
   ]
  },
  {
   "cell_type": "markdown",
   "id": "157afb52",
   "metadata": {},
   "source": [
    "### C: Interact with Copilot to Create a Report\n",
    "\n",
    "To create a report with Copilot:\n",
    "1. Open the Copilot pane in your Fabric workspace.  \n",
    "2. Select **Create report** or start a new report from the workspace menu.  \n",
    "3. On the \"Create a new report\" page, use the default question or enter your own. For example, you can start with:  \n",
    "    - \"Show total sales by province for 2024.\"  \n",
    "4. If Copilot asks for more information, consider these tips:  \n",
    "    - Analyze revenue by province and by RepSales.  \n",
    "    - For Province and RepSales, analyze trends over time by month, showing the amount and splitting by RepSales.  \n",
    "    - Request plots that summarize sales by province and RepSales, such as bar charts, line charts, or pie charts.  \n",
    "    - Ask for summary tables or visuals that highlight top-performing provinces or sales representatives.  \n",
    "5. Copilot will suggest visuals and layouts based on your description.  \n",
    "6. Refine the report by adding or removing fields, adjusting filters, or customizing visuals as needed.  \n",
    "7. Save and publish your report to share insights with others in your organization.\n",
    "\n",
    "---\n",
    "\n",
    "**Reflection Question:**  \n",
    "Consider the differences between creating dashboards and reports using AI/BI tools in Databricks versus Copilot in Fabric.  \n",
    "- How does the user experience, automation, and integration with data sources compare between the two platforms?  \n",
    "- What are the strengths and limitations of each approach for business users and data professionals?  \n",
    "- In what scenarios would you prefer Databricks dashboard AI/BI features over Copilot, or vice versa?  \n",
    "Reflect on these aspects as you explore both tools.\n",
    "\n"
   ]
  }
 ],
 "metadata": {
  "language_info": {
   "name": "python"
  }
 },
 "nbformat": 4,
 "nbformat_minor": 5
}
