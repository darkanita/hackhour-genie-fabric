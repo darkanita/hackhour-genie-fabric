{
 "cells": [
  {
   "cell_type": "markdown",
   "metadata": {
    "application/vnd.databricks.v1+cell": {
     "cellMetadata": {},
     "inputWidgets": {},
     "nuid": "2bfa9bfa-16ec-4dd4-a2fa-62f82f9239c5",
     "showTitle": false,
     "tableResultSettingsMap": {},
     "title": ""
    }
   },
   "source": [
    "## Demo - Developing Genie Spaces\n",
    "\n",
    "Databricks AI/BI Genie empowers your end users by allowing them to have natural language chats directly with your organization's data. \n",
    "\n",
    "In this notebook, we’ll learn how to perform the initial definition of a Genie space. \n",
    "\n",
    "\n",
    "You will use the following resources:\n",
    "- Tables:\n",
    "  - Catalog: hack_hours_dbws\n",
    "  - Schema: v01\n",
    "  - Tables:\n",
    "    - customers\n",
    "    - orders\n",
    "    - products\n",
    "    - opportunities\n",
    "\n",
    "These tables contain simulated business-to-business order and opportunity data for an imaginary company's Canadian sales operation. The **orders** table contains information from 2021 through the middle of November 2024. This table identifies the relevant customer with a unique key that points into the **customers** table, and it identifies the relevant product with a unique key that points into the **products** table. The **opportunities** table provides additional details regarding sales opportunities and sales representatives. You'll use the data in these tables to prepare your Genie space."
   ]
  },
  {
   "cell_type": "markdown",
   "metadata": {
    "application/vnd.databricks.v1+cell": {
     "cellMetadata": {},
     "inputWidgets": {},
     "nuid": "5a401aed-11d5-4e2c-9844-3e8e79f9d9bd",
     "showTitle": false,
     "tableResultSettingsMap": {},
     "title": ""
    }
   },
   "source": [
    "\n",
    "### A: Create a Genie Space\n",
    "\n",
    "In this taks, you’ll get a hands-on view of the settings and details involved in creating Genie Spaces. You’ll also learn the differences between Genie Spaces created from a dashboard and those created independently.\n",
    "\n",
    "**\uD83D\uDCCC NOTE:** Many of the following instructions take place in a non-notebook area of the platform. It is recommended to open either the notebooks in a separate tab or window to reference the instructions alongside the area where they are performed.\n",
    "\n",
    "1. Select **Genie** from the sidebar navigation. (It is recommended to right-click and select Open Link in New Window or Tab)\n",
    "\n",
    "1. Click the **+ New** button at top right.\n",
    "\n",
    "1. You'll be presented with the **Connect your data** dialogue box. Click **All** and navigate to `hack_hours_dbws.v01` and select the following four tables: \n",
    "\n",
    "    - customers\n",
    "    - orders\n",
    "    - opportunities\n",
    "    - products\n",
    "\n",
    "    A checkbox will appear next to each as you select them.\n",
    "\n",
    "4. Next, select **Create** at the bottom of the dialogue to continue.\n",
    "\n",
    "In the resulting window, you'll be presented with a chat panel on the left and the configuration settings open on the right with **Context** and **Data** selected.\n",
    "1. Switch the view from **Context** to **Settings**.\n",
    "1. In the **Title** field, enter `Canada Sales and Opportunities Current Year`.\n",
    "1. Leave the **Description** field blank for now.\n",
    "1. Select an available SQL warehouse if one is not already added. (Recall that a Databricks SQL warehouse encapsulates the compute resources needed to work with our data. SQL warehouses are typically defined by data engineers.)\n",
    "1. Paste the following sample questions into the input field using the **`+ Add`** button to add each question:\n",
    "        <br/>\n",
    "        ```\n",
    "            Break down 2024 sales by province \n",
    "        ```\n",
    "        <br/>\n",
    "        ```\n",
    "        Show me the distribution of opportunities by sales phase\n",
    "        ```\n",
    "            \n",
    "8. Click the **Save** button at the bottom. Note that the chat window updated to include the two new questions that were added.\n",
    "\n",
    "The initial definition of your Genie space is now complete. The chat window is what your end users will be able to work with when you publish your Genie space. For now, though, you are the only person with access to the Genie Space. \n"
   ]
  },
  {
   "cell_type": "markdown",
   "metadata": {
    "application/vnd.databricks.v1+cell": {
     "cellMetadata": {},
     "inputWidgets": {},
     "nuid": "effd39d6-ba3e-4e24-bb14-aa148465f9ae",
     "showTitle": false,
     "tableResultSettingsMap": {},
     "title": ""
    }
   },
   "source": [
    "### B: Interact with the Genie space\n",
    "\n",
    "1. In the Genie space's chat field, click the question button labeled **Explain the data set**. Genie responds with an AI-generated explanation of the data it was given. How did it do?\n",
    "2. Now, click on **`+ New Chat`** in the upper right from the list of options, then click on the button labeled **Break down 2024 sales by province** to enter the query.\n",
    "\n",
    "3. Now entering this into the chat window: ```Split out the revenue from British Columbia by product```\n",
    "\n",
    "4. Is Genie's response to that query satisfactory? Click the **`(✓)Yes`** icon if yes, otherwise click the **`(x)Fix it`** icon.\n",
    "\n",
    "5. If it was not satisfactory, chances are Genie did not deduce that the values of the **province** field are the standard abbreviations for Canadian provinces. These abbreviations were in the training set for Genie's Large Language Model (LLM), but it just doesn't have enough context on our data to know to use them here. Give it some context by entering this into the chat window:\n",
    "```\n",
    "Use Canadian province abbreviations for the province field\n",
    "```\n",
    "6. Did Genie respond appropriately to this guidance? Again, click the **`(✓)Yes`** icon if yes, otherwise click the **`(x)Fix it`** icon.\n",
    "\n",
    "\n",
    "7. If Genie told you that the data in the table uses province names rather than abbreviations, simply tell it that it is incorrect:\n",
    "```\n",
    "no it doesn't, the data in the province field is abbreviations\n",
    "```\n",
    "\n",
    "  How does Genie respond to the new information? If Genie made an error previously, scroll back in the dialogue to see that Genie has updated its previous response.\n",
    "\n",
    "8. Let's try a new query that also depends on Genie's contextual understanding of the **province** field:\n",
    "```\n",
    "now do the same for alberta\n",
    "```\n",
    "\n",
    "  In order to respond to this query correctly, Genie will have to know that AB in the table represents Alberta. How did Genie do?\n",
    "\n",
    "9. If Genie erred in this dialogue for you, scroll back to where you corrected it and click the **Add as instruction** button. Only users with CAN MANAGE or CAN EDIT privilege on the dashboard can do so; right now that is only you.\n",
    "\n",
    "10. Now ask Genie for a visualization: \n",
    "```\n",
    "Show me the distribution of opportunities by sales phase\n",
    "```\n",
    "What type of graph did Genie choose?\n",
    "\n",
    "11. Ask explicitly for a bar chart.\n",
    "```\n",
    "give me a stacked bar chart showing that on a weekly basis\n",
    "```\n",
    "Did Genie figure out the temporal interval correctly?\n",
    "\n",
    "12. If your bar chart seems to have extremely thin and widely spaced vertical bars, it is because Genie chose to treat the X axis as covering a range of time rather than a series of per-week values. Click the pencil icon to edit the visualization; click on the **week** field, and change the scale type from continuous to categorical. Does the graph improve?\n",
    "\n",
    "**NOTE:** Databricks is constantly improving the underlying large language model that Genie uses to develop responses, so it's possible that you won't receive any errors in your conversation with Genie based on the above example. Try prompting Genie with different queries to see how it responds. Did it respond as you expected or was there a missunderstanding of your question?"
   ]
  },
  {
   "cell_type": "markdown",
   "metadata": {
    "application/vnd.databricks.v1+cell": {
     "cellMetadata": {},
     "inputWidgets": {},
     "nuid": "e817c462-4204-462e-9f32-59fe15522d9c",
     "showTitle": false,
     "tableResultSettingsMap": {},
     "title": ""
    }
   },
   "source": [
    "### C: Create a Genie space that is tied to a dashboard\n",
    "Genie spaces can also be added to Dashboards directly. Use the following instructions to create a new dashboard and auto-create a Genie space for that dashboard. \n",
    "\n",
    "1. Select **Dashboards** from the sidebar navigation.\n",
    "1. Click the **Create dashboard** button at top right.\n",
    "1. Click on the temporary name for the dashboard at top center and change it to **Scratch dashboard**.\n",
    "1. Click the **Data** tab.\n",
    "1. Click the **+ Add data source** button. Navigate to the **dbacademy** catalog, and then into your personal schema. Choose the **ca_orders** table.\n",
    "1. Click on the **Untitled page** canvas tab at top left to switch to the canvas view.\n",
    "1. Click the icon in the palette for adding a visualization. Add a pie chart to the dashboard.\n",
    "1. Land the new widget on the left side of the canvas. Click in the new widget to give it focus.  \n",
    "1. In the **Configuration Panel** on the right, make the following selections for the settings: \n",
    "\n",
    "    - **Dataset**: **ca_orders**\n",
    "    - **Title:** Checked\n",
    "      - Click on the placeholder widget title on the visualization.\n",
    "      - Change it by typing over it to **Revenue Share by Product**.\n",
    "    - **Visualization**: Pie\n",
    "    - **Angle**: **orderamt** (The user interface will intuit that you want to apply the SUM aggregation.)\n",
    "\n",
    "      Click on **SUM(orderamt)** and fill in **Revenue** for the display name.\n",
    "    - **Color**: Click the **+** and choose **productid**.\n",
    "      Click on **productid** and fill in **Product Id** for the display name.\n",
    "\n",
    "9. Now publish the dashboard by clicking the **Publish** button at top right.\n",
    "1. In the publication configuration panel, take all the defaults except for turning on the **Enable Genie** switch at bottom. \n",
    "\n",
    "**NOTE:** This feature is currently in **Beta** and may operate in an unpredictable manner. If you're unable to complete this exercise when you attempt it, please simply read through the instructions and other details below and try again at another time. Thank you!\n",
    "\n",
    "12. Immediately below the **Enable Genie** switch, you have a choice between attaching an auto-generated Genie space to the dashboard and attaching a existing Genie space (that is, one already listed under the **Genie** section of the Databricks user interface). Ensure that **Auto-generate Genie space** is selected. \n",
    "1. Now, click the **`Publish`** button to publish your dashboard. \n",
    "1. Dismiss the **Sharing** popup panel that appears.\n",
    "1. You will still be looking at your draft dashboard. Use the **View Published** toggle at top of the dashboard to change your view to the published dashboard.\n",
    "1. Notice that there is now an **Ask Genie** button embedded at the bottom. What happens when you click it? Additionally, each visualization will now have an icon indicating that you can follow up with Genie on that specific visualization."
   ]
  },
  {
   "cell_type": "markdown",
   "metadata": {
    "application/vnd.databricks.v1+cell": {
     "cellMetadata": {},
     "inputWidgets": {},
     "nuid": "48f76bcd-cdc5-4aab-9d32-c94c187e14b0",
     "showTitle": false,
     "tableResultSettingsMap": {},
     "title": ""
    }
   },
   "source": [
    "### D: Compare standalone Genie spaces to embedded Genie spaces\n",
    "\n",
    "Let's see how these two types of Genie spaces differ. You should still be looking at your scratch dashboard with the **Ask Genie** button at bottom.\n",
    "\n",
    "1. Click the **Ask Genie** button. A chat window opens at right. Recall that you are the creator of this Genie space and therefore the owner and manager. Do you have any way to open this Genie space's configuration details?\n",
    "\n",
    "1. Select **Genie** from the sidebar navigation.\n",
    "1. How many Genie spaces do you see in the list: one or two?\n",
    "1. From the list, click the Genie space you created called **Canada Sales and Opportunities Current Year**. Can you open this Genie space's configuration details?\n"
   ]
  },
  {
   "cell_type": "markdown",
   "metadata": {
    "application/vnd.databricks.v1+cell": {
     "cellMetadata": {},
     "inputWidgets": {},
     "nuid": "c74726d2-823f-489f-acd3-591c16d21a31",
     "showTitle": false,
     "tableResultSettingsMap": {},
     "title": ""
    }
   },
   "source": [
    "### E: Associate an existing Genie space with a dashboard\n",
    "\n",
    "During a previous activity, you saw that the Genie spaces auto-generated when you share a dashboard lack some management functionality, especially when viewed from within the dashboard. Opening the Genie space in a new window, accessible via the kebab menu on the Genie space, will give you limited management ability, including the option to review feedback and set SQL queries. However, you cannot edit custom instructions or the details of the Genie space when created via auto-generation from a Dashboard. \n",
    "\n",
    "For this exercise, we'll instead associate the stand alone Genie space that we built earlier with our **Scratch Dashboard**.\n",
    "\n",
    "1. First, we must obtain the URL of the Genie space to which we want to link. Select **Genie** from the sidebar navigation.\n",
    "\n",
    "1. In the resulting list of Genie spaces, right-click on the **Canada Sales and Opportunities Current Year** Genie space, and use your browser's Open in New Tab function to open that Genie space while still preserving your main browser tab. \n",
    "1. In the newly opened tab, select **Share** and choose **Copy link** from the bottom left to get the URL for the Genie space. You'll be pasting this URL in a subsequent step.\n",
    "1. Return to your main browser tab. Select **Dashboards** from the sidebar navigation.\n",
    "1. Click on **Scratch Dashboard** in the dashboard listing.\n",
    "1. Use the **Edit Draft** context button at the top of the dashboard display to make sure that you are looking at the **Draft** version.\n",
    "1. We will now republish the dashboard. Click the **Publish** button at top right.\n",
    "1. In the publication dialogue, ensure that **Enable Genie** is selected.\n",
    "1. Underneath **Enable Genie**, you are given a choice between creating an auto-generated Genie space or using an existing one. Choose **Link existing Genie space**. \n",
    "1. Paste the URL of the **Canada Sales and Opportunities Current Year** Genie space into the box labeled **Paste URL here...**.\n",
    "1. Then, click the **`Publish`** button at the bottom.\n",
    "1. Dismiss the **Sharing** window if it appears and toggle to the published dashboard. \n",
    "1. In the resulting dashboard, click **Ask Genie** at the bottom.\n",
    "1. A Genie chat window opens at right. Enter any query you like. Give feedback on the result.\n",
    "1. Now go back to your other browser tab that is open to the **Canada Sales and Opportunities Current Year** Genie space. Click on the **Monitoring** button from the options at the top right (the option with an icon resembling an eye). Notice that your query and your feedback appear in the list.\n",
    "\n",
    "What do you think the appropriate use cases are for auto-generated Genie spaces and standalone Genie spaces?\n"
   ]
  },
  {
   "cell_type": "markdown",
   "metadata": {
    "application/vnd.databricks.v1+cell": {
     "cellMetadata": {},
     "inputWidgets": {},
     "nuid": "cfb4e897-3f1b-4afe-8e9c-da50bc3b8ee2",
     "showTitle": false,
     "tableResultSettingsMap": {},
     "title": ""
    }
   },
   "source": [
    "**Note**\n",
    ">This notebook was created using the AI/BI for Analysts official training of Databricks as a reference."
   ]
  }
 ],
 "metadata": {
  "application/vnd.databricks.v1+notebook": {
   "computePreferences": null,
   "dashboards": [],
   "environmentMetadata": {
    "base_environment": "",
    "environment_version": "3"
   },
   "inputWidgetPreferences": null,
   "language": "python",
   "notebookMetadata": {
    "pythonIndentUnit": 4
   },
   "notebookName": "Demo - Developing Genie Spaces",
   "widgets": {}
  },
  "language_info": {
   "name": "python"
  }
 },
 "nbformat": 4,
 "nbformat_minor": 0
}